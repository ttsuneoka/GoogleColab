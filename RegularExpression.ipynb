{
  "nbformat": 4,
  "nbformat_minor": 0,
  "metadata": {
    "colab": {
      "name": "RegularExpression.ipynb",
      "provenance": [],
      "collapsed_sections": [],
      "authorship_tag": "ABX9TyPRpZBIY0A3c8abC9C3A7h/",
      "include_colab_link": true
    },
    "kernelspec": {
      "name": "python3",
      "display_name": "Python 3"
    }
  },
  "cells": [
    {
      "cell_type": "markdown",
      "metadata": {
        "id": "view-in-github",
        "colab_type": "text"
      },
      "source": [
        "<a href=\"https://colab.research.google.com/github/ttsuneoka/GoogleColab/blob/master/RegularExpression.ipynb\" target=\"_parent\"><img src=\"https://colab.research.google.com/assets/colab-badge.svg\" alt=\"Open In Colab\"/></a>"
      ]
    },
    {
      "cell_type": "code",
      "metadata": {
        "id": "PuTKQV1D6Tto",
        "colab_type": "code",
        "colab": {
          "base_uri": "https://localhost:8080/",
          "height": 71
        },
        "outputId": "ff9e42a1-7830-4432-ba12-90d88fe6e872"
      },
      "source": [
        "'''メタキャラクタ\n",
        "\n",
        "表記         意味\n",
        ".(dot)      任意の文字にマッチ\n",
        "\\w          単語を構成する文字(英数字とアンダースコア'_')にマッチ\n",
        "\\W          単語を構成する文字以外の文字(記号)にマッチ\n",
        "\\s          単語間の空白文字にマッチ\n",
        "\\S          空白文字以外の文字にマッチ\n",
        "\\d          数字にマッチ\n",
        "\\D          数字以外の文字にマッチ'''"
      ],
      "execution_count": 1,
      "outputs": [
        {
          "output_type": "execute_result",
          "data": {
            "application/vnd.google.colaboratory.intrinsic+json": {
              "type": "string"
            },
            "text/plain": [
              "\"メタキャラクタ\\n\\n表記         意味\\n.(dot)      任意の文字にマッチ\\n\\\\w          単語を構成する文字(英数字とアンダースコア'_')にマッチ\\n\\\\W          単語を構成する文字以外の文字(記号)にマッチ\\n\\\\s          単語間の空白文字にマッチ\\n\\\\S          空白文字以外の文字にマッチ\\n\\\\d          数字にマッチ\\n\\\\D          数字以外の文字にマッチ\""
            ]
          },
          "metadata": {
            "tags": []
          },
          "execution_count": 1
        }
      ]
    },
    {
      "cell_type": "code",
      "metadata": {
        "id": "jUgiCKPj6aN2",
        "colab_type": "code",
        "colab": {}
      },
      "source": [
        "import re"
      ],
      "execution_count": 2,
      "outputs": []
    },
    {
      "cell_type": "code",
      "metadata": {
        "id": "NowwwyEg50BI",
        "colab_type": "code",
        "colab": {
          "base_uri": "https://localhost:8080/",
          "height": 68
        },
        "outputId": "085dbb0e-2a36-4995-9495-8e1f47192a92"
      },
      "source": [
        "search_word = '.... is a pen'\n",
        "\n",
        "check_word1 = 'This is a pen'\n",
        "check_word2 = 'THAT is a pen'\n",
        "check_word3 = 'This is a book'\n",
        "\n",
        "m = re.match(search_word, check_word1)\n",
        "print(m)\n",
        "m = re.match(search_word, check_word2)\n",
        "print(m)\n",
        "m = re.match(search_word, check_word3)\n",
        "print(m)"
      ],
      "execution_count": 3,
      "outputs": [
        {
          "output_type": "stream",
          "text": [
            "<_sre.SRE_Match object; span=(0, 13), match='This is a pen'>\n",
            "<_sre.SRE_Match object; span=(0, 13), match='THAT is a pen'>\n",
            "None\n"
          ],
          "name": "stdout"
        }
      ]
    },
    {
      "cell_type": "code",
      "metadata": {
        "id": "rx7QZW7e5lho",
        "colab_type": "code",
        "colab": {
          "base_uri": "https://localhost:8080/",
          "height": 68
        },
        "outputId": "21f6b308-bfe7-476e-d05b-90b1c8ee5fd1"
      },
      "source": [
        "# \\w = [a-zA-Z0-9_]\n",
        "search_word = 'This is a \\w\\w\\w'\n",
        "\n",
        "check_word1 = 'This is a pen'\n",
        "check_word2 = 'This is a !!!'\n",
        "check_word3 = 'This is a B_2'\n",
        "\n",
        "m = re.match(search_word, check_word1)\n",
        "print(m)\n",
        "m = re.match(search_word, check_word2)\n",
        "print(m)\n",
        "m = re.match(search_word, check_word3)\n",
        "print(m)"
      ],
      "execution_count": 4,
      "outputs": [
        {
          "output_type": "stream",
          "text": [
            "<_sre.SRE_Match object; span=(0, 13), match='This is a pen'>\n",
            "None\n",
            "<_sre.SRE_Match object; span=(0, 13), match='This is a B_2'>\n"
          ],
          "name": "stdout"
        }
      ]
    },
    {
      "cell_type": "code",
      "metadata": {
        "id": "xp5IRU9A4d02",
        "colab_type": "code",
        "colab": {
          "base_uri": "https://localhost:8080/",
          "height": 68
        },
        "outputId": "e89d5fbd-fcb4-4438-d790-895953f9523a"
      },
      "source": [
        "# \\W = [^a-zA-Z0-9_]\n",
        "search_word = 'This is a \\W\\W\\W'\n",
        "\n",
        "check_word1 = 'This is a pen'\n",
        "check_word2 = 'This is a !!!'\n",
        "check_word3 = 'This is a B_2'\n",
        "\n",
        "m = re.match(search_word, check_word1)\n",
        "print(m)\n",
        "m = re.match(search_word, check_word2)\n",
        "print(m)\n",
        "m = re.match(search_word, check_word3)\n",
        "print(m)"
      ],
      "execution_count": 5,
      "outputs": [
        {
          "output_type": "stream",
          "text": [
            "None\n",
            "<_sre.SRE_Match object; span=(0, 13), match='This is a !!!'>\n",
            "None\n"
          ],
          "name": "stdout"
        }
      ]
    },
    {
      "cell_type": "code",
      "metadata": {
        "id": "Smq7ojg4_TiO",
        "colab_type": "code",
        "colab": {
          "base_uri": "https://localhost:8080/",
          "height": 68
        },
        "outputId": "14df62a8-c26c-405f-f128-48267fcee0dc"
      },
      "source": [
        "# \\s\n",
        "search_word = 'ABCD\\sEFGH'\n",
        "\n",
        "check_word1 = 'ABCD EFGH'\n",
        "check_word2 = 'ABCDEFGH'\n",
        "check_word3 = 'ABCD EF GH'\n",
        "\n",
        "m = re.match(search_word, check_word1)\n",
        "print(m)\n",
        "m = re.match(search_word, check_word2)\n",
        "print(m)\n",
        "m = re.match(search_word, check_word3)\n",
        "print(m)"
      ],
      "execution_count": 6,
      "outputs": [
        {
          "output_type": "stream",
          "text": [
            "<_sre.SRE_Match object; span=(0, 9), match='ABCD EFGH'>\n",
            "None\n",
            "None\n"
          ],
          "name": "stdout"
        }
      ]
    },
    {
      "cell_type": "code",
      "metadata": {
        "id": "KZpW6PwlARZl",
        "colab_type": "code",
        "colab": {
          "base_uri": "https://localhost:8080/",
          "height": 68
        },
        "outputId": "80adca13-b6b0-45e3-edc3-21efb6c32b3e"
      },
      "source": [
        "# \\S\n",
        "search_word = 'ABCD\\SEFGH'\n",
        "\n",
        "check_word1 = 'ABCD EFGH'\n",
        "check_word2 = 'ABCDxEFGH'\n",
        "check_word3 = 'ABCDEFGH'\n",
        "\n",
        "m = re.match(search_word, check_word1)\n",
        "print(m)\n",
        "m = re.match(search_word, check_word2)\n",
        "print(m)\n",
        "m = re.match(search_word, check_word3)\n",
        "print(m)"
      ],
      "execution_count": 7,
      "outputs": [
        {
          "output_type": "stream",
          "text": [
            "None\n",
            "<_sre.SRE_Match object; span=(0, 9), match='ABCDxEFGH'>\n",
            "None\n"
          ],
          "name": "stdout"
        }
      ]
    },
    {
      "cell_type": "code",
      "metadata": {
        "id": "xKd70dGfAwdm",
        "colab_type": "code",
        "colab": {
          "base_uri": "https://localhost:8080/",
          "height": 68
        },
        "outputId": "e09af7d1-ebdd-4c1e-f14c-b8e281d98dcc"
      },
      "source": [
        "# \\d\n",
        "search_word = '\\d\\d\\d\\d/\\d\\d/\\d\\d'\n",
        "\n",
        "check_word1 = '2005/01/15'\n",
        "check_word2 = '2005/1/15'\n",
        "check_word3 = '2005/XX/15'\n",
        "\n",
        "m = re.match(search_word, check_word1)\n",
        "print(m)\n",
        "m = re.match(search_word, check_word2)\n",
        "print(m)\n",
        "m = re.match(search_word, check_word3)\n",
        "print(m)"
      ],
      "execution_count": 8,
      "outputs": [
        {
          "output_type": "stream",
          "text": [
            "<_sre.SRE_Match object; span=(0, 10), match='2005/01/15'>\n",
            "None\n",
            "None\n"
          ],
          "name": "stdout"
        }
      ]
    },
    {
      "cell_type": "code",
      "metadata": {
        "id": "DI-dE0D4Beap",
        "colab_type": "code",
        "colab": {
          "base_uri": "https://localhost:8080/",
          "height": 68
        },
        "outputId": "917c83f7-304c-4271-c722-cf7156c29433"
      },
      "source": [
        "# \\d\n",
        "search_word = '\\d\\d\\d-\\d\\d\\d\\d'\n",
        "\n",
        "check_word1 = '156-0043'\n",
        "check_word2 = '0424-99-9999'\n",
        "check_word3 = '182'\n",
        "\n",
        "m = re.match(search_word, check_word1)\n",
        "print(m)\n",
        "m = re.match(search_word, check_word2)\n",
        "print(m)\n",
        "m = re.match(search_word, check_word3)\n",
        "print(m)"
      ],
      "execution_count": 9,
      "outputs": [
        {
          "output_type": "stream",
          "text": [
            "<_sre.SRE_Match object; span=(0, 8), match='156-0043'>\n",
            "None\n",
            "None\n"
          ],
          "name": "stdout"
        }
      ]
    },
    {
      "cell_type": "code",
      "metadata": {
        "id": "HRoc89vxBxzA",
        "colab_type": "code",
        "colab": {
          "base_uri": "https://localhost:8080/",
          "height": 68
        },
        "outputId": "f92e74f4-b5d7-4d3a-dda2-9cf9a04c4e5b"
      },
      "source": [
        "# \\D\n",
        "search_word = '\\D\\D\\D \\d\\d \\d\\d\\d\\d'\n",
        "\n",
        "check_word1 = '123 01 2005'\n",
        "check_word2 = 'Jan 01 2005'\n",
        "check_word3 = 'FEB 06 2013'\n",
        "\n",
        "m = re.match(search_word, check_word1)\n",
        "print(m)\n",
        "m = re.match(search_word, check_word2)\n",
        "print(m)\n",
        "m = re.match(search_word, check_word3)\n",
        "print(m)"
      ],
      "execution_count": 10,
      "outputs": [
        {
          "output_type": "stream",
          "text": [
            "None\n",
            "<_sre.SRE_Match object; span=(0, 11), match='Jan 01 2005'>\n",
            "<_sre.SRE_Match object; span=(0, 11), match='FEB 06 2013'>\n"
          ],
          "name": "stdout"
        }
      ]
    },
    {
      "cell_type": "code",
      "metadata": {
        "id": "SL8aGVkMCPtf",
        "colab_type": "code",
        "colab": {}
      },
      "source": [
        ""
      ],
      "execution_count": 10,
      "outputs": []
    }
  ]
}