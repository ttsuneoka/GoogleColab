{
  "nbformat": 4,
  "nbformat_minor": 0,
  "metadata": {
    "colab": {
      "name": "RegularExpression.ipynb",
      "provenance": [],
      "collapsed_sections": [],
      "authorship_tag": "ABX9TyM6Xi+N4T1ymKov5cU2tCud",
      "include_colab_link": true
    },
    "kernelspec": {
      "name": "python3",
      "display_name": "Python 3"
    }
  },
  "cells": [
    {
      "cell_type": "markdown",
      "metadata": {
        "id": "view-in-github",
        "colab_type": "text"
      },
      "source": [
        "<a href=\"https://colab.research.google.com/github/ttsuneoka/GoogleColab/blob/master/RegularExpression.ipynb\" target=\"_parent\"><img src=\"https://colab.research.google.com/assets/colab-badge.svg\" alt=\"Open In Colab\"/></a>"
      ]
    },
    {
      "cell_type": "code",
      "metadata": {
        "id": "PuTKQV1D6Tto",
        "colab_type": "code",
        "colab": {
          "base_uri": "https://localhost:8080/",
          "height": 71
        },
        "outputId": "d4fe2fb7-c7b0-4af6-d79d-3d16d3ac2f54"
      },
      "source": [
        "'''\n",
        "\n",
        "メタキャラクタ\n",
        "\n",
        "表記         意味\n",
        ".(dot)      任意の文字にマッチ\n",
        "\\w          単語を構成する文字(英数字とアンダースコア'_')にマッチ\n",
        "\\W          単語を構成する文字以外の文字(記号)にマッチ\n",
        "\\s          単語間の空白文字にマッチ\n",
        "\\S          空白文字以外の文字にマッチ\n",
        "\\d          数字にマッチ\n",
        "\\D          数字以外の文字にマッチ\n",
        "\n",
        "'''"
      ],
      "execution_count": null,
      "outputs": [
        {
          "output_type": "execute_result",
          "data": {
            "application/vnd.google.colaboratory.intrinsic+json": {
              "type": "string"
            },
            "text/plain": [
              "\"\\n\\nメタキャラクタ\\n\\n表記         意味\\n.(dot)      任意の文字にマッチ\\n\\\\w          単語を構成する文字(英数字とアンダースコア'_')にマッチ\\n\\\\W          単語を構成する文字以外の文字(記号)にマッチ\\n\\\\s          単語間の空白文字にマッチ\\n\\\\S          空白文字以外の文字にマッチ\\n\\\\d          数字にマッチ\\n\\\\D          数字以外の文字にマッチ\\n\\n\""
            ]
          },
          "metadata": {
            "tags": []
          },
          "execution_count": 1
        }
      ]
    },
    {
      "cell_type": "code",
      "metadata": {
        "id": "jUgiCKPj6aN2",
        "colab_type": "code",
        "colab": {}
      },
      "source": [
        "import re"
      ],
      "execution_count": null,
      "outputs": []
    },
    {
      "cell_type": "code",
      "metadata": {
        "id": "NowwwyEg50BI",
        "colab_type": "code",
        "colab": {
          "base_uri": "https://localhost:8080/",
          "height": 68
        },
        "outputId": "49f6007c-2c68-4cf8-90e6-60abb67832ae"
      },
      "source": [
        "search_word = '.... is a pen'\n",
        "\n",
        "check_word1 = 'This is a pen'\n",
        "check_word2 = 'THAT is a pen'\n",
        "check_word3 = 'This is a book'\n",
        "\n",
        "m = re.match(search_word, check_word1)\n",
        "print(m)\n",
        "m = re.match(search_word, check_word2)\n",
        "print(m)\n",
        "m = re.match(search_word, check_word3)\n",
        "print(m)"
      ],
      "execution_count": null,
      "outputs": [
        {
          "output_type": "stream",
          "text": [
            "<_sre.SRE_Match object; span=(0, 13), match='This is a pen'>\n",
            "<_sre.SRE_Match object; span=(0, 13), match='THAT is a pen'>\n",
            "None\n"
          ],
          "name": "stdout"
        }
      ]
    },
    {
      "cell_type": "code",
      "metadata": {
        "id": "rx7QZW7e5lho",
        "colab_type": "code",
        "colab": {
          "base_uri": "https://localhost:8080/",
          "height": 68
        },
        "outputId": "fec120be-5eb6-4d6b-f96f-e03ed6db85b7"
      },
      "source": [
        "# \\w = [a-zA-Z0-9_]\n",
        "search_word = 'This is a \\w\\w\\w'\n",
        "\n",
        "check_word1 = 'This is a pen'\n",
        "check_word2 = 'This is a !!!'\n",
        "check_word3 = 'This is a B_2'\n",
        "\n",
        "m = re.match(search_word, check_word1)\n",
        "print(m)\n",
        "m = re.match(search_word, check_word2)\n",
        "print(m)\n",
        "m = re.match(search_word, check_word3)\n",
        "print(m)"
      ],
      "execution_count": null,
      "outputs": [
        {
          "output_type": "stream",
          "text": [
            "<_sre.SRE_Match object; span=(0, 13), match='This is a pen'>\n",
            "None\n",
            "<_sre.SRE_Match object; span=(0, 13), match='This is a B_2'>\n"
          ],
          "name": "stdout"
        }
      ]
    },
    {
      "cell_type": "code",
      "metadata": {
        "id": "xp5IRU9A4d02",
        "colab_type": "code",
        "colab": {
          "base_uri": "https://localhost:8080/",
          "height": 68
        },
        "outputId": "2fc93d3d-da07-4842-c197-013b99a5d590"
      },
      "source": [
        "# \\W = [^a-zA-Z0-9_]\n",
        "search_word = 'This is a \\W\\W\\W'\n",
        "\n",
        "check_word1 = 'This is a pen'\n",
        "check_word2 = 'This is a !!!'\n",
        "check_word3 = 'This is a B_2'\n",
        "\n",
        "m = re.match(search_word, check_word1)\n",
        "print(m)\n",
        "m = re.match(search_word, check_word2)\n",
        "print(m)\n",
        "m = re.match(search_word, check_word3)\n",
        "print(m)"
      ],
      "execution_count": null,
      "outputs": [
        {
          "output_type": "stream",
          "text": [
            "None\n",
            "<_sre.SRE_Match object; span=(0, 13), match='This is a !!!'>\n",
            "None\n"
          ],
          "name": "stdout"
        }
      ]
    },
    {
      "cell_type": "code",
      "metadata": {
        "id": "Smq7ojg4_TiO",
        "colab_type": "code",
        "colab": {
          "base_uri": "https://localhost:8080/",
          "height": 68
        },
        "outputId": "038340c5-5d84-4522-c217-911b4d90ee08"
      },
      "source": [
        "# \\s\n",
        "search_word = 'ABCD\\sEFGH'\n",
        "\n",
        "check_word1 = 'ABCD EFGH'\n",
        "check_word2 = 'ABCDEFGH'\n",
        "check_word3 = 'ABCD EF GH'\n",
        "\n",
        "m = re.match(search_word, check_word1)\n",
        "print(m)\n",
        "m = re.match(search_word, check_word2)\n",
        "print(m)\n",
        "m = re.match(search_word, check_word3)\n",
        "print(m)"
      ],
      "execution_count": null,
      "outputs": [
        {
          "output_type": "stream",
          "text": [
            "<_sre.SRE_Match object; span=(0, 9), match='ABCD EFGH'>\n",
            "None\n",
            "None\n"
          ],
          "name": "stdout"
        }
      ]
    },
    {
      "cell_type": "code",
      "metadata": {
        "id": "KZpW6PwlARZl",
        "colab_type": "code",
        "colab": {
          "base_uri": "https://localhost:8080/",
          "height": 68
        },
        "outputId": "43e83425-db21-4f35-adf2-66a571444f1d"
      },
      "source": [
        "# \\S\n",
        "search_word = 'ABCD\\SEFGH'\n",
        "\n",
        "check_word1 = 'ABCD EFGH'\n",
        "check_word2 = 'ABCDxEFGH'\n",
        "check_word3 = 'ABCDEFGH'\n",
        "\n",
        "m = re.match(search_word, check_word1)\n",
        "print(m)\n",
        "m = re.match(search_word, check_word2)\n",
        "print(m)\n",
        "m = re.match(search_word, check_word3)\n",
        "print(m)"
      ],
      "execution_count": null,
      "outputs": [
        {
          "output_type": "stream",
          "text": [
            "None\n",
            "<_sre.SRE_Match object; span=(0, 9), match='ABCDxEFGH'>\n",
            "None\n"
          ],
          "name": "stdout"
        }
      ]
    },
    {
      "cell_type": "code",
      "metadata": {
        "id": "xKd70dGfAwdm",
        "colab_type": "code",
        "colab": {
          "base_uri": "https://localhost:8080/",
          "height": 68
        },
        "outputId": "69cc990b-d659-44ab-b1d7-90a61a85ac75"
      },
      "source": [
        "# \\d\n",
        "search_word = '\\d\\d\\d\\d/\\d\\d/\\d\\d'\n",
        "\n",
        "check_word1 = '2005/01/15'\n",
        "check_word2 = '2005/1/15'\n",
        "check_word3 = '2005/XX/15'\n",
        "\n",
        "m = re.match(search_word, check_word1)\n",
        "print(m)\n",
        "m = re.match(search_word, check_word2)\n",
        "print(m)\n",
        "m = re.match(search_word, check_word3)\n",
        "print(m)"
      ],
      "execution_count": null,
      "outputs": [
        {
          "output_type": "stream",
          "text": [
            "<_sre.SRE_Match object; span=(0, 10), match='2005/01/15'>\n",
            "None\n",
            "None\n"
          ],
          "name": "stdout"
        }
      ]
    },
    {
      "cell_type": "code",
      "metadata": {
        "id": "DI-dE0D4Beap",
        "colab_type": "code",
        "colab": {
          "base_uri": "https://localhost:8080/",
          "height": 68
        },
        "outputId": "53d143a9-60b0-4ff2-9d84-49727eb8d919"
      },
      "source": [
        "# \\d\n",
        "search_word = '\\d\\d\\d-\\d\\d\\d\\d'\n",
        "\n",
        "check_word1 = '156-0043'\n",
        "check_word2 = '0424-99-9999'\n",
        "check_word3 = '182'\n",
        "\n",
        "m = re.match(search_word, check_word1)\n",
        "print(m)\n",
        "m = re.match(search_word, check_word2)\n",
        "print(m)\n",
        "m = re.match(search_word, check_word3)\n",
        "print(m)"
      ],
      "execution_count": null,
      "outputs": [
        {
          "output_type": "stream",
          "text": [
            "<_sre.SRE_Match object; span=(0, 8), match='156-0043'>\n",
            "None\n",
            "None\n"
          ],
          "name": "stdout"
        }
      ]
    },
    {
      "cell_type": "code",
      "metadata": {
        "id": "HRoc89vxBxzA",
        "colab_type": "code",
        "colab": {
          "base_uri": "https://localhost:8080/",
          "height": 68
        },
        "outputId": "9d17f8be-4b53-41a7-87fa-2f6ff3bd6684"
      },
      "source": [
        "# \\D\n",
        "search_word = '\\D\\D\\D \\d\\d \\d\\d\\d\\d'\n",
        "\n",
        "check_word1 = '123 01 2005'\n",
        "check_word2 = 'Jan 01 2005'\n",
        "check_word3 = 'FEB 06 2013'\n",
        "\n",
        "m = re.match(search_word, check_word1)\n",
        "print(m)\n",
        "m = re.match(search_word, check_word2)\n",
        "print(m)\n",
        "m = re.match(search_word, check_word3)\n",
        "print(m)"
      ],
      "execution_count": null,
      "outputs": [
        {
          "output_type": "stream",
          "text": [
            "None\n",
            "<_sre.SRE_Match object; span=(0, 11), match='Jan 01 2005'>\n",
            "<_sre.SRE_Match object; span=(0, 11), match='FEB 06 2013'>\n"
          ],
          "name": "stdout"
        }
      ]
    },
    {
      "cell_type": "code",
      "metadata": {
        "id": "SL8aGVkMCPtf",
        "colab_type": "code",
        "colab": {
          "base_uri": "https://localhost:8080/",
          "height": 54
        },
        "outputId": "de9bbeb0-57af-4683-8cb5-100072dd4ca8"
      },
      "source": [
        "'''\n",
        "\n",
        "量指定子メタキャラクタ\n",
        "\n",
        "*       0回以上の繰り返しにマッチ\n",
        "+       1回以上の繰り返しにマッチ\n",
        "{n}     n回の繰り返しにマッチ\n",
        "{n,}    n回以上の繰り返しにマッチ\n",
        "{n, m}  n回以上m回以下の繰り返しにマッチ\n",
        "?       0回または1回の出現にマッチ\n",
        "\n",
        "'''"
      ],
      "execution_count": null,
      "outputs": [
        {
          "output_type": "execute_result",
          "data": {
            "application/vnd.google.colaboratory.intrinsic+json": {
              "type": "string"
            },
            "text/plain": [
              "'\\n\\n量指定子メタキャラクタ\\n\\n*       0回以上の繰り返しにマッチ\\n+       1回以上の繰り返しにマッチ\\n{n}     n回の繰り返しにマッチ\\n{n,}    n回以上の繰り返しにマッチ\\n{n, m}  n回以上m回以下の繰り返しにマッチ\\n?       0回または1回の出現にマッチ\\n\\n'"
            ]
          },
          "metadata": {
            "tags": []
          },
          "execution_count": 11
        }
      ]
    },
    {
      "cell_type": "code",
      "metadata": {
        "id": "qSq_abXxhrTu",
        "colab_type": "code",
        "colab": {
          "base_uri": "https://localhost:8080/",
          "height": 68
        },
        "outputId": "e9cffa70-6c53-46c5-d0b2-45310ad825b4"
      },
      "source": [
        "# *\n",
        "search_word = 'Yea*h!'\n",
        "\n",
        "check_word1 = 'Yeaaaah!'\n",
        "check_word2 = 'Yeh!'\n",
        "check_word3 = 'YEAAH!'\n",
        "\n",
        "m = re.match(search_word, check_word1)\n",
        "print(m)\n",
        "m = re.match(search_word, check_word2)\n",
        "print(m)\n",
        "m = re.match(search_word, check_word3)\n",
        "print(m)"
      ],
      "execution_count": null,
      "outputs": [
        {
          "output_type": "stream",
          "text": [
            "<_sre.SRE_Match object; span=(0, 8), match='Yeaaaah!'>\n",
            "<_sre.SRE_Match object; span=(0, 4), match='Yeh!'>\n",
            "None\n"
          ],
          "name": "stdout"
        }
      ]
    },
    {
      "cell_type": "code",
      "metadata": {
        "id": "9Jn7zk4oiHxz",
        "colab_type": "code",
        "colab": {
          "base_uri": "https://localhost:8080/",
          "height": 68
        },
        "outputId": "9c7387ca-a85f-4aba-b700-77bd3dd896ab"
      },
      "source": [
        "# +\n",
        "search_word = 'Yea+h!'\n",
        "\n",
        "check_word1 = 'Yeaah!'\n",
        "check_word2 = 'Yeah!'\n",
        "check_word3 = 'Yeh!'\n",
        "\n",
        "m = re.match(search_word, check_word1)\n",
        "print(m)\n",
        "m = re.match(search_word, check_word2)\n",
        "print(m)\n",
        "m = re.match(search_word, check_word3)\n",
        "print(m)"
      ],
      "execution_count": null,
      "outputs": [
        {
          "output_type": "stream",
          "text": [
            "<_sre.SRE_Match object; span=(0, 6), match='Yeaah!'>\n",
            "<_sre.SRE_Match object; span=(0, 5), match='Yeah!'>\n",
            "None\n"
          ],
          "name": "stdout"
        }
      ]
    },
    {
      "cell_type": "code",
      "metadata": {
        "id": "0C6k1t5Xi36i",
        "colab_type": "code",
        "colab": {
          "base_uri": "https://localhost:8080/",
          "height": 68
        },
        "outputId": "5248512b-36ef-447a-b2fe-5c3620f7b3a5"
      },
      "source": [
        "# {n}\n",
        "search_word = 'Yea{3}h!'\n",
        "\n",
        "check_word1 = 'Yeaaaah!'\n",
        "check_word2 = 'Yeaaah!'\n",
        "check_word3 = 'Yeaah!'\n",
        "\n",
        "m = re.match(search_word, check_word1)\n",
        "print(m)\n",
        "m = re.match(search_word, check_word2)\n",
        "print(m)\n",
        "m = re.match(search_word, check_word3)\n",
        "print(m)"
      ],
      "execution_count": null,
      "outputs": [
        {
          "output_type": "stream",
          "text": [
            "None\n",
            "<_sre.SRE_Match object; span=(0, 7), match='Yeaaah!'>\n",
            "None\n"
          ],
          "name": "stdout"
        }
      ]
    },
    {
      "cell_type": "code",
      "metadata": {
        "id": "oG4Fs4lyjY2H",
        "colab_type": "code",
        "colab": {
          "base_uri": "https://localhost:8080/",
          "height": 68
        },
        "outputId": "fe9bb722-dc0b-4d39-e24a-aa0f42734174"
      },
      "source": [
        "# {n,}\n",
        "search_word = 'Yea{2,}h!'\n",
        "\n",
        "check_word1 = 'Yeaaah!'\n",
        "check_word2 = 'Yeaah!'\n",
        "check_word3 = 'Yeah!'\n",
        "\n",
        "m = re.match(search_word, check_word1)\n",
        "print(m)\n",
        "m = re.match(search_word, check_word2)\n",
        "print(m)\n",
        "m = re.match(search_word, check_word3)\n",
        "print(m)"
      ],
      "execution_count": null,
      "outputs": [
        {
          "output_type": "stream",
          "text": [
            "<_sre.SRE_Match object; span=(0, 7), match='Yeaaah!'>\n",
            "<_sre.SRE_Match object; span=(0, 6), match='Yeaah!'>\n",
            "None\n"
          ],
          "name": "stdout"
        }
      ]
    },
    {
      "cell_type": "code",
      "metadata": {
        "id": "u-G12zvTjocd",
        "colab_type": "code",
        "colab": {
          "base_uri": "https://localhost:8080/",
          "height": 68
        },
        "outputId": "8bc85457-5ce2-44b1-833e-1a86a30110ee"
      },
      "source": [
        "# {n, m}\n",
        "search_word = 'Yea{1,3}h!'\n",
        "\n",
        "check_word1 = 'Yeaaaah!'\n",
        "check_word2 = 'Yeaah!'\n",
        "check_word3 = 'Yeh!'\n",
        "\n",
        "m = re.match(search_word, check_word1)\n",
        "print(m)\n",
        "m = re.match(search_word, check_word2)\n",
        "print(m)\n",
        "m = re.match(search_word, check_word3)\n",
        "print(m)"
      ],
      "execution_count": null,
      "outputs": [
        {
          "output_type": "stream",
          "text": [
            "None\n",
            "<_sre.SRE_Match object; span=(0, 6), match='Yeaah!'>\n",
            "None\n"
          ],
          "name": "stdout"
        }
      ]
    },
    {
      "cell_type": "code",
      "metadata": {
        "id": "TGuom64okItO",
        "colab_type": "code",
        "colab": {
          "base_uri": "https://localhost:8080/",
          "height": 51
        },
        "outputId": "beec151f-f86e-4350-d6d4-2c36c5fa137a"
      },
      "source": [
        "# ?\n",
        "search_word = 'colou?r'\n",
        "\n",
        "check_word1 = 'color'\n",
        "check_word2 = 'colour'\n",
        "\n",
        "m = re.match(search_word, check_word1)\n",
        "print(m)\n",
        "m = re.match(search_word, check_word2)\n",
        "print(m)"
      ],
      "execution_count": null,
      "outputs": [
        {
          "output_type": "stream",
          "text": [
            "<_sre.SRE_Match object; span=(0, 5), match='color'>\n",
            "<_sre.SRE_Match object; span=(0, 6), match='colour'>\n"
          ],
          "name": "stdout"
        }
      ]
    },
    {
      "cell_type": "code",
      "metadata": {
        "id": "TdyQRlewN-Bt",
        "colab_type": "code",
        "colab": {
          "base_uri": "https://localhost:8080/",
          "height": 37
        },
        "outputId": "e994f3d2-1974-41cb-ed44-14c76de76de4"
      },
      "source": [
        "'''\n",
        "\n",
        "集合を表すメタキャラクタ\n",
        "\n",
        "[●●●]   いずれかの文字にマッチ(文字クラス)\n",
        "●●●|●●● いずれかのパターンにマッチ\n",
        "\n",
        "'''"
      ],
      "execution_count": null,
      "outputs": [
        {
          "output_type": "execute_result",
          "data": {
            "application/vnd.google.colaboratory.intrinsic+json": {
              "type": "string"
            },
            "text/plain": [
              "'\\n\\n集合を表すメタキャラクタ\\n\\n[●●●]   いずれかの文字にマッチ(文字クラス)\\n●●●|●●● いずれかのパターンにマッチ\\n\\n'"
            ]
          },
          "metadata": {
            "tags": []
          },
          "execution_count": 18
        }
      ]
    },
    {
      "cell_type": "code",
      "metadata": {
        "id": "hL2hlollOnIy",
        "colab_type": "code",
        "colab": {
          "base_uri": "https://localhost:8080/",
          "height": 68
        },
        "outputId": "82f14852-852f-43df-9e3d-dcedada17f9f"
      },
      "source": [
        "# [●●●]\n",
        "search_word = '[a-c]'\n",
        "\n",
        "check_word1 = 'abcdefg'\n",
        "check_word2 = '123acdb'\n",
        "check_word3 = 'cabc123'\n",
        "\n",
        "m = re.match(search_word, check_word1)\n",
        "print(m)\n",
        "m = re.match(search_word, check_word2)\n",
        "print(m)\n",
        "m = re.match(search_word, check_word3)\n",
        "print(m)"
      ],
      "execution_count": null,
      "outputs": [
        {
          "output_type": "stream",
          "text": [
            "<_sre.SRE_Match object; span=(0, 1), match='a'>\n",
            "None\n",
            "<_sre.SRE_Match object; span=(0, 1), match='c'>\n"
          ],
          "name": "stdout"
        }
      ]
    },
    {
      "cell_type": "code",
      "metadata": {
        "id": "lQHJOrxePQ6l",
        "colab_type": "code",
        "colab": {
          "base_uri": "https://localhost:8080/",
          "height": 68
        },
        "outputId": "6191c898-854d-4c2c-fdf7-f5cd9d22f9b5"
      },
      "source": [
        "# [●●●]\n",
        "search_word = '[Tt]atsuya'\n",
        "\n",
        "check_word1 = 'Tatsuya'\n",
        "check_word2 = 'tatsuya'\n",
        "check_word3 = 'Katsuya'\n",
        "\n",
        "m = re.match(search_word, check_word1)\n",
        "print(m)\n",
        "m = re.match(search_word, check_word2)\n",
        "print(m)\n",
        "m = re.match(search_word, check_word3)\n",
        "print(m)"
      ],
      "execution_count": null,
      "outputs": [
        {
          "output_type": "stream",
          "text": [
            "<_sre.SRE_Match object; span=(0, 7), match='Tatsuya'>\n",
            "<_sre.SRE_Match object; span=(0, 7), match='tatsuya'>\n",
            "None\n"
          ],
          "name": "stdout"
        }
      ]
    },
    {
      "cell_type": "code",
      "metadata": {
        "id": "ZlGrT7uOQzYU",
        "colab_type": "code",
        "colab": {
          "base_uri": "https://localhost:8080/",
          "height": 68
        },
        "outputId": "5fc8f2d3-05cd-4810-9eaa-fac40a92922c"
      },
      "source": [
        "# ●●●|●●●\n",
        "search_word = 'Jack|James'\n",
        "\n",
        "check_word1 = 'Jack'\n",
        "check_word2 = 'John'\n",
        "check_word3 = 'James'\n",
        "\n",
        "m = re.match(search_word, check_word1)\n",
        "print(m)\n",
        "m = re.match(search_word, check_word2)\n",
        "print(m)\n",
        "m = re.match(search_word, check_word3)\n",
        "print(m)"
      ],
      "execution_count": null,
      "outputs": [
        {
          "output_type": "stream",
          "text": [
            "<_sre.SRE_Match object; span=(0, 4), match='Jack'>\n",
            "None\n",
            "<_sre.SRE_Match object; span=(0, 5), match='James'>\n"
          ],
          "name": "stdout"
        }
      ]
    },
    {
      "cell_type": "code",
      "metadata": {
        "id": "1tq5ruepREvg",
        "colab_type": "code",
        "colab": {
          "base_uri": "https://localhost:8080/",
          "height": 68
        },
        "outputId": "1d8daecc-e9f4-45f1-e1d9-c97a8ead0375"
      },
      "source": [
        "# ●●●|●●●\n",
        "search_word = 'Ja(ck|mes)'\n",
        "\n",
        "check_word1 = 'Jack'\n",
        "check_word2 = 'John'\n",
        "check_word3 = 'James'\n",
        "\n",
        "m = re.match(search_word, check_word1)\n",
        "print(m)\n",
        "m = re.match(search_word, check_word2)\n",
        "print(m)\n",
        "m = re.match(search_word, check_word3)\n",
        "print(m)"
      ],
      "execution_count": null,
      "outputs": [
        {
          "output_type": "stream",
          "text": [
            "<_sre.SRE_Match object; span=(0, 4), match='Jack'>\n",
            "None\n",
            "<_sre.SRE_Match object; span=(0, 5), match='James'>\n"
          ],
          "name": "stdout"
        }
      ]
    },
    {
      "cell_type": "code",
      "metadata": {
        "id": "OQp1mCGVRNXj",
        "colab_type": "code",
        "colab": {
          "base_uri": "https://localhost:8080/",
          "height": 54
        },
        "outputId": "6179cb13-74ee-474f-dd93-e0d7ebbc189e"
      },
      "source": [
        "'''\n",
        "\n",
        "位置を表すメタキャラクタ\n",
        "\n",
        "^       文字列(行)の先頭にマッチ\n",
        "$       文字列(行)の終端にマッチ\n",
        "\\b      単語境界にマッチ\n",
        "\\B      単語境界以外にマッチ\n",
        "\n",
        "'''"
      ],
      "execution_count": null,
      "outputs": [
        {
          "output_type": "execute_result",
          "data": {
            "application/vnd.google.colaboratory.intrinsic+json": {
              "type": "string"
            },
            "text/plain": [
              "'\\n\\n位置を表すメタキャラクタ\\n\\n^       文字列(行)の先頭にマッチ\\n$       文字列(行)の終端にマッチ\\n\\x08      単語境界にマッチ\\n\\\\B      単語境界以外にマッチ\\n\\n'"
            ]
          },
          "metadata": {
            "tags": []
          },
          "execution_count": 23
        }
      ]
    },
    {
      "cell_type": "code",
      "metadata": {
        "id": "oP9BqGB8SORM",
        "colab_type": "code",
        "colab": {
          "base_uri": "https://localhost:8080/",
          "height": 51
        },
        "outputId": "25ac61ca-98db-444f-d301-7436e3e44ade"
      },
      "source": [
        "# ^\n",
        "search_word = '^happy'\n",
        "\n",
        "check_word1 = 'you are happy'\n",
        "check_word2 = 'happy new year'\n",
        "\n",
        "m = re.search(search_word, check_word1)\n",
        "print(m)\n",
        "m = re.search(search_word, check_word2)\n",
        "print(m)"
      ],
      "execution_count": null,
      "outputs": [
        {
          "output_type": "stream",
          "text": [
            "None\n",
            "<_sre.SRE_Match object; span=(0, 5), match='happy'>\n"
          ],
          "name": "stdout"
        }
      ]
    },
    {
      "cell_type": "code",
      "metadata": {
        "id": "D1QEnUCvShpt",
        "colab_type": "code",
        "colab": {
          "base_uri": "https://localhost:8080/",
          "height": 51
        },
        "outputId": "7f96c44f-8b7c-4316-a74c-53641282769a"
      },
      "source": [
        "# $ (re.matchだとcheck_word1が正しく判断できない。文字列の先頭パターンのマッチングを見ている)\n",
        "search_word = 'happy$'\n",
        "\n",
        "check_word1 = 'you are happy'\n",
        "check_word2 = 'happy new year'\n",
        "\n",
        "m = re.search(search_word, check_word1)\n",
        "print(m)\n",
        "m = re.search(search_word, check_word2)\n",
        "print(m)"
      ],
      "execution_count": null,
      "outputs": [
        {
          "output_type": "stream",
          "text": [
            "<_sre.SRE_Match object; span=(8, 13), match='happy'>\n",
            "None\n"
          ],
          "name": "stdout"
        }
      ]
    },
    {
      "cell_type": "code",
      "metadata": {
        "id": "yHvevgY_StaU",
        "colab_type": "code",
        "colab": {
          "base_uri": "https://localhost:8080/",
          "height": 51
        },
        "outputId": "a5c4a4dc-48da-4e77-d6c2-01e5135fc895"
      },
      "source": [
        "# \\b  '/'を使うときは’の前にrをつける\n",
        "search_word = r'\\bbook\\b'\n",
        "\n",
        "check_word1 = 'book'\n",
        "check_word2 = 'bookshelf'\n",
        "\n",
        "m = re.search(search_word, check_word1)\n",
        "print(m)\n",
        "m = re.search(search_word, check_word2)\n",
        "print(m)"
      ],
      "execution_count": null,
      "outputs": [
        {
          "output_type": "stream",
          "text": [
            "<_sre.SRE_Match object; span=(0, 4), match='book'>\n",
            "None\n"
          ],
          "name": "stdout"
        }
      ]
    },
    {
      "cell_type": "code",
      "metadata": {
        "id": "5FtHTfFZVR42",
        "colab_type": "code",
        "colab": {
          "base_uri": "https://localhost:8080/",
          "height": 51
        },
        "outputId": "7c612799-8be5-4aeb-b6d7-1f134f3b92b8"
      },
      "source": [
        "# \\b  \n",
        "search_word = r'\\b\\w+\\b'\n",
        "\n",
        "check_word1 = 'book'\n",
        "check_word2 = 'bookshelf'\n",
        "\n",
        "m = re.search(search_word, check_word1)\n",
        "print(m)\n",
        "m = re.search(search_word, check_word2)\n",
        "print(m)"
      ],
      "execution_count": null,
      "outputs": [
        {
          "output_type": "stream",
          "text": [
            "<_sre.SRE_Match object; span=(0, 4), match='book'>\n",
            "<_sre.SRE_Match object; span=(0, 9), match='bookshelf'>\n"
          ],
          "name": "stdout"
        }
      ]
    },
    {
      "cell_type": "code",
      "metadata": {
        "id": "TV3nE_uGYIQ1",
        "colab_type": "code",
        "colab": {
          "base_uri": "https://localhost:8080/",
          "height": 68
        },
        "outputId": "c49c940e-f167-43cf-87d0-829bd2c25ca1"
      },
      "source": [
        "# \\B\n",
        "search_word = r'\\Bmac\\B'\n",
        "\n",
        "check_word1 = 'mac'\n",
        "check_word2 = 'emacs'\n",
        "check_word3 = 'macintosh'\n",
        "\n",
        "m = re.search(search_word, check_word1)\n",
        "print(m)\n",
        "m = re.search(search_word, check_word2)\n",
        "print(m)\n",
        "m = re.search(search_word, check_word3)\n",
        "print(m)"
      ],
      "execution_count": null,
      "outputs": [
        {
          "output_type": "stream",
          "text": [
            "None\n",
            "<_sre.SRE_Match object; span=(1, 4), match='mac'>\n",
            "None\n"
          ],
          "name": "stdout"
        }
      ]
    },
    {
      "cell_type": "code",
      "metadata": {
        "id": "ZgdaY3moYzlF",
        "colab_type": "code",
        "colab": {
          "base_uri": "https://localhost:8080/",
          "height": 37
        },
        "outputId": "ffa750e7-3bb1-4188-f509-fc6a4a6b1d6d"
      },
      "source": [
        "'''\n",
        "\n",
        "後方参照とエスケープ\n",
        "\n",
        "\\1 \\2 \\3    すでにマッチしたテキストにマッチ\n",
        "\\●          エスケープ\n",
        "\n",
        "'''"
      ],
      "execution_count": null,
      "outputs": [
        {
          "output_type": "execute_result",
          "data": {
            "application/vnd.google.colaboratory.intrinsic+json": {
              "type": "string"
            },
            "text/plain": [
              "'\\n\\n後方参照とエスケープ\\n\\n\\x01 \\x02 \\x03    すでにマッチしたテキストにマッチ\\n\\\\●          エスケープ\\n\\n'"
            ]
          },
          "metadata": {
            "tags": []
          },
          "execution_count": 29
        }
      ]
    },
    {
      "cell_type": "code",
      "metadata": {
        "id": "MADIawL9yWvn",
        "colab_type": "code",
        "colab": {
          "base_uri": "https://localhost:8080/",
          "height": 68
        },
        "outputId": "d25e0589-5ecb-4a5c-e233-757717b4f41e"
      },
      "source": [
        "# \\1 \\2 \\3\n",
        "search_word = r'A (\\w+) is \\1'\n",
        "\n",
        "check_word1 = 'A promise is promise'\n",
        "check_word2 = 'A bargain is bargain'\n",
        "check_word3 = 'A liar is worse'\n",
        "\n",
        "m = re.search(search_word, check_word1)\n",
        "print(m)\n",
        "m = re.search(search_word, check_word2)\n",
        "print(m)\n",
        "m = re.search(search_word, check_word3)\n",
        "print(m)"
      ],
      "execution_count": null,
      "outputs": [
        {
          "output_type": "stream",
          "text": [
            "<_sre.SRE_Match object; span=(0, 20), match='A promise is promise'>\n",
            "<_sre.SRE_Match object; span=(0, 20), match='A bargain is bargain'>\n",
            "None\n"
          ],
          "name": "stdout"
        }
      ]
    },
    {
      "cell_type": "code",
      "metadata": {
        "id": "CedDlJVMzRDz",
        "colab_type": "code",
        "colab": {
          "base_uri": "https://localhost:8080/",
          "height": 34
        },
        "outputId": "819ad686-e8aa-45b8-ede5-98487ca11391"
      },
      "source": [
        "# \\●\n",
        "search_word = r'gihyo\\.co\\.jp'\n",
        "\n",
        "check_word1 = 'gihyo.co.jp'\n",
        "\n",
        "m = re.search(search_word, check_word1)\n",
        "print(m)"
      ],
      "execution_count": null,
      "outputs": [
        {
          "output_type": "stream",
          "text": [
            "<_sre.SRE_Match object; span=(0, 11), match='gihyo.co.jp'>\n"
          ],
          "name": "stdout"
        }
      ]
    },
    {
      "cell_type": "code",
      "metadata": {
        "id": "k5AOhbZ90Qlr",
        "colab_type": "code",
        "colab": {}
      },
      "source": [
        ""
      ],
      "execution_count": null,
      "outputs": []
    }
  ]
}