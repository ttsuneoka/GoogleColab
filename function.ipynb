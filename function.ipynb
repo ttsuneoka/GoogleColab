{
  "nbformat": 4,
  "nbformat_minor": 0,
  "metadata": {
    "colab": {
      "name": "function.ipynb",
      "provenance": [],
      "authorship_tag": "ABX9TyM1LEJTTDss8e9/Ce4NCLGC",
      "include_colab_link": true
    },
    "kernelspec": {
      "name": "python3",
      "display_name": "Python 3"
    }
  },
  "cells": [
    {
      "cell_type": "markdown",
      "metadata": {
        "id": "view-in-github",
        "colab_type": "text"
      },
      "source": [
        "<a href=\"https://colab.research.google.com/github/ttsuneoka/GoogleColab/blob/master/function.ipynb\" target=\"_parent\"><img src=\"https://colab.research.google.com/assets/colab-badge.svg\" alt=\"Open In Colab\"/></a>"
      ]
    },
    {
      "cell_type": "code",
      "metadata": {
        "id": "c7scB8c22BXY",
        "colab_type": "code",
        "colab": {}
      },
      "source": [
        "def my_func():\n",
        "    pass"
      ],
      "execution_count": null,
      "outputs": []
    },
    {
      "cell_type": "code",
      "metadata": {
        "id": "OsYxHIQ84HQI",
        "colab_type": "code",
        "colab": {}
      },
      "source": [
        "my_func()"
      ],
      "execution_count": null,
      "outputs": []
    },
    {
      "cell_type": "code",
      "metadata": {
        "id": "_zvZUQi84LQq",
        "colab_type": "code",
        "colab": {
          "base_uri": "https://localhost:8080/",
          "height": 34
        },
        "outputId": "6082ea1f-8c09-4bcc-d2cb-ad8957213c2c"
      },
      "source": [
        "my_func"
      ],
      "execution_count": null,
      "outputs": [
        {
          "output_type": "execute_result",
          "data": {
            "text/plain": [
              "<function __main__.my_func>"
            ]
          },
          "metadata": {
            "tags": []
          },
          "execution_count": 3
        }
      ]
    },
    {
      "cell_type": "code",
      "metadata": {
        "id": "e1vNjC0D4SVf",
        "colab_type": "code",
        "colab": {}
      },
      "source": [
        "def my_func(x):\n",
        "    pass"
      ],
      "execution_count": null,
      "outputs": []
    },
    {
      "cell_type": "code",
      "metadata": {
        "id": "g8oDvfHA4t9e",
        "colab_type": "code",
        "colab": {}
      },
      "source": [
        "my_func(1)"
      ],
      "execution_count": null,
      "outputs": []
    },
    {
      "cell_type": "code",
      "metadata": {
        "id": "dQShORTC4woc",
        "colab_type": "code",
        "colab": {}
      },
      "source": [
        "def my_func(x):\n",
        "    return x"
      ],
      "execution_count": null,
      "outputs": []
    },
    {
      "cell_type": "code",
      "metadata": {
        "id": "L6voZ-xn47-i",
        "colab_type": "code",
        "colab": {
          "base_uri": "https://localhost:8080/",
          "height": 34
        },
        "outputId": "1f287b06-5548-49d9-8153-1d679c547cac"
      },
      "source": [
        "my_func(1)"
      ],
      "execution_count": null,
      "outputs": [
        {
          "output_type": "execute_result",
          "data": {
            "text/plain": [
              "1"
            ]
          },
          "metadata": {
            "tags": []
          },
          "execution_count": 7
        }
      ]
    },
    {
      "cell_type": "code",
      "metadata": {
        "id": "eG8gprxI4-Gb",
        "colab_type": "code",
        "colab": {
          "base_uri": "https://localhost:8080/",
          "height": 37
        },
        "outputId": "24254fc3-3dbc-4dc3-cf58-1f3ec58fbcfd"
      },
      "source": [
        "my_func('test')"
      ],
      "execution_count": null,
      "outputs": [
        {
          "output_type": "execute_result",
          "data": {
            "application/vnd.google.colaboratory.intrinsic+json": {
              "type": "string"
            },
            "text/plain": [
              "'test'"
            ]
          },
          "metadata": {
            "tags": []
          },
          "execution_count": 8
        }
      ]
    },
    {
      "cell_type": "code",
      "metadata": {
        "id": "VHWOyGw05Bae",
        "colab_type": "code",
        "colab": {}
      },
      "source": [
        "def my_func(x):\n",
        "    x.append(1)"
      ],
      "execution_count": null,
      "outputs": []
    },
    {
      "cell_type": "code",
      "metadata": {
        "id": "e9FFuMk-5Q-j",
        "colab_type": "code",
        "colab": {
          "base_uri": "https://localhost:8080/",
          "height": 34
        },
        "outputId": "7ba08a17-2913-416a-bd38-dde996d09d2c"
      },
      "source": [
        "my_list = [0, 1, 2, 3]\n",
        "my_func(my_list)\n",
        "print(my_list)"
      ],
      "execution_count": null,
      "outputs": [
        {
          "output_type": "stream",
          "text": [
            "[0, 1, 2, 3, 1]\n"
          ],
          "name": "stdout"
        }
      ]
    },
    {
      "cell_type": "code",
      "metadata": {
        "id": "x27dVYco5WG4",
        "colab_type": "code",
        "colab": {}
      },
      "source": [
        "def my_func(x):\n",
        "    result = [0]\n",
        "    return result * x"
      ],
      "execution_count": null,
      "outputs": []
    },
    {
      "cell_type": "code",
      "metadata": {
        "id": "33bOwYyg6mmh",
        "colab_type": "code",
        "colab": {
          "base_uri": "https://localhost:8080/",
          "height": 34
        },
        "outputId": "78c43592-9feb-478e-ffba-b72960db3bc9"
      },
      "source": [
        "print(my_func(5))"
      ],
      "execution_count": null,
      "outputs": [
        {
          "output_type": "stream",
          "text": [
            "[0, 0, 0, 0, 0]\n"
          ],
          "name": "stdout"
        }
      ]
    },
    {
      "cell_type": "code",
      "metadata": {
        "id": "JR1XOFRT6tU5",
        "colab_type": "code",
        "colab": {}
      },
      "source": [
        "def fib(n):\n",
        "    a, b = 0, 1\n",
        "    while a < n:\n",
        "        print(a, end=' ')\n",
        "        a, b = b , a+b"
      ],
      "execution_count": null,
      "outputs": []
    },
    {
      "cell_type": "code",
      "metadata": {
        "id": "lOzNJ8zF8Hio",
        "colab_type": "code",
        "colab": {
          "base_uri": "https://localhost:8080/",
          "height": 34
        },
        "outputId": "9ccec692-69e0-4a95-de26-c2b9279dc636"
      },
      "source": [
        "fib(1000)"
      ],
      "execution_count": null,
      "outputs": [
        {
          "output_type": "stream",
          "text": [
            "0 1 1 2 3 5 8 13 21 34 55 89 144 233 377 610 987 "
          ],
          "name": "stdout"
        }
      ]
    },
    {
      "cell_type": "code",
      "metadata": {
        "id": "uRlS-d0_8NJ4",
        "colab_type": "code",
        "colab": {}
      },
      "source": [
        "def fib2(n):\n",
        "    result = []\n",
        "    a, b = 0, 1\n",
        "    while a < n:\n",
        "        result.append(a)\n",
        "        a, b = b, a+b\n",
        "    return result"
      ],
      "execution_count": null,
      "outputs": []
    },
    {
      "cell_type": "code",
      "metadata": {
        "id": "-LvwxVqH9rYo",
        "colab_type": "code",
        "colab": {
          "base_uri": "https://localhost:8080/",
          "height": 34
        },
        "outputId": "6edf16c8-bf52-45b4-e9dc-03f246e17cdf"
      },
      "source": [
        "fib2(1000)"
      ],
      "execution_count": null,
      "outputs": [
        {
          "output_type": "execute_result",
          "data": {
            "text/plain": [
              "[0, 1, 1, 2, 3, 5, 8, 13, 21, 34, 55, 89, 144, 233, 377, 610, 987]"
            ]
          },
          "metadata": {
            "tags": []
          },
          "execution_count": 16
        }
      ]
    },
    {
      "cell_type": "code",
      "metadata": {
        "id": "S-gbHlEWhIwA",
        "colab_type": "code",
        "colab": {}
      },
      "source": [
        "def house_for_rent(bedrooms, walk_min, house_type, rent_yen):\n",
        "    return {'bedrooms': bedrooms, 'walk_min': walk_min, 'house_type': house_type, 'rent_yen': rent_yen}"
      ],
      "execution_count": null,
      "outputs": []
    },
    {
      "cell_type": "code",
      "metadata": {
        "id": "gbcTH44diVPH",
        "colab_type": "code",
        "colab": {
          "base_uri": "https://localhost:8080/",
          "height": 85
        },
        "outputId": "fb425c70-e0f0-4b4c-9036-08920668d7d6"
      },
      "source": [
        "house_for_rent(2, 15, 'apartment house', 50)"
      ],
      "execution_count": null,
      "outputs": [
        {
          "output_type": "execute_result",
          "data": {
            "text/plain": [
              "{'bedrooms': 2,\n",
              " 'house_type': 'apartment house',\n",
              " 'rent_yen': 50,\n",
              " 'walk_min': 15}"
            ]
          },
          "metadata": {
            "tags": []
          },
          "execution_count": 18
        }
      ]
    },
    {
      "cell_type": "code",
      "metadata": {
        "id": "ttcrBq8ZigvT",
        "colab_type": "code",
        "colab": {
          "base_uri": "https://localhost:8080/",
          "height": 85
        },
        "outputId": "c7087ba9-3b3a-41de-cc2d-cedf4b0289a8"
      },
      "source": [
        "house_for_rent(2, 'apartment house', 2, 100)"
      ],
      "execution_count": null,
      "outputs": [
        {
          "output_type": "execute_result",
          "data": {
            "text/plain": [
              "{'bedrooms': 2,\n",
              " 'house_type': 2,\n",
              " 'rent_yen': 100,\n",
              " 'walk_min': 'apartment house'}"
            ]
          },
          "metadata": {
            "tags": []
          },
          "execution_count": 19
        }
      ]
    },
    {
      "cell_type": "code",
      "metadata": {
        "id": "KeXwcbwri1Zr",
        "colab_type": "code",
        "colab": {
          "base_uri": "https://localhost:8080/",
          "height": 85
        },
        "outputId": "faf6da2c-5c4a-4d44-d100-2cf94c086766"
      },
      "source": [
        "house_for_rent(bedrooms=2, house_type='apartment house', walk_min=2, rent_yen=100)"
      ],
      "execution_count": null,
      "outputs": [
        {
          "output_type": "execute_result",
          "data": {
            "text/plain": [
              "{'bedrooms': 2,\n",
              " 'house_type': 'apartment house',\n",
              " 'rent_yen': 100,\n",
              " 'walk_min': 2}"
            ]
          },
          "metadata": {
            "tags": []
          },
          "execution_count": 20
        }
      ]
    },
    {
      "cell_type": "code",
      "metadata": {
        "id": "FQ6W8bCtsjO1",
        "colab_type": "code",
        "colab": {}
      },
      "source": [
        "def house_for_rent(bedrooms=2, walk_min=6, house_type='apartment house', rent_yen=50):\n",
        "    return {'bedrooms': bedrooms, 'walk_min': walk_min, 'house_type': house_type, 'rent_yen': rent_yen}"
      ],
      "execution_count": null,
      "outputs": []
    },
    {
      "cell_type": "code",
      "metadata": {
        "id": "izIvnkdftWDL",
        "colab_type": "code",
        "colab": {
          "base_uri": "https://localhost:8080/",
          "height": 34
        },
        "outputId": "69913b2b-f5dc-413c-e4bb-2424023dc985"
      },
      "source": [
        "house_for_rent()"
      ],
      "execution_count": null,
      "outputs": [
        {
          "output_type": "execute_result",
          "data": {
            "text/plain": [
              "{'bedrooms': 2, 'house_type': 'apartment house', 'rent_yen': 50, 'walk_min': 6}"
            ]
          },
          "metadata": {
            "tags": []
          },
          "execution_count": 22
        }
      ]
    },
    {
      "cell_type": "code",
      "metadata": {
        "id": "77BaEC4qtaaY",
        "colab_type": "code",
        "colab": {
          "base_uri": "https://localhost:8080/",
          "height": 34
        },
        "outputId": "db964776-86a5-4e36-d4fb-9fac059569b2"
      },
      "source": [
        "house_for_rent(5, house_type='flat')"
      ],
      "execution_count": null,
      "outputs": [
        {
          "output_type": "execute_result",
          "data": {
            "text/plain": [
              "{'bedrooms': 5, 'house_type': 'flat', 'rent_yen': 50, 'walk_min': 6}"
            ]
          },
          "metadata": {
            "tags": []
          },
          "execution_count": 23
        }
      ]
    },
    {
      "cell_type": "code",
      "metadata": {
        "id": "fm35ps9Ptxqg",
        "colab_type": "code",
        "colab": {}
      },
      "source": [
        "def show_args(*args):\n",
        "    print('Positional arguments:', args)\n",
        "    return args"
      ],
      "execution_count": null,
      "outputs": []
    },
    {
      "cell_type": "code",
      "metadata": {
        "id": "dlRZUjSbTKgr",
        "colab_type": "code",
        "colab": {
          "base_uri": "https://localhost:8080/",
          "height": 51
        },
        "outputId": "b92564b1-0d9b-4076-802c-94d152bc24b2"
      },
      "source": [
        "show_args(1, 3, 5, 'Hello')"
      ],
      "execution_count": null,
      "outputs": [
        {
          "output_type": "stream",
          "text": [
            "Positional arguments: (1, 3, 5, 'Hello')\n"
          ],
          "name": "stdout"
        },
        {
          "output_type": "execute_result",
          "data": {
            "text/plain": [
              "(1, 3, 5, 'Hello')"
            ]
          },
          "metadata": {
            "tags": []
          },
          "execution_count": 25
        }
      ]
    },
    {
      "cell_type": "code",
      "metadata": {
        "id": "lkeYtqg5TRCk",
        "colab_type": "code",
        "colab": {}
      },
      "source": [
        "def show_kwargs(**kwargs):\n",
        "    print('Keyword arguments:', kwargs)\n",
        "    return kwargs"
      ],
      "execution_count": null,
      "outputs": []
    },
    {
      "cell_type": "code",
      "metadata": {
        "id": "Kt6cO6k6UE4-",
        "colab_type": "code",
        "colab": {
          "base_uri": "https://localhost:8080/"
        },
        "outputId": "a174c897-1be2-4c14-e5dd-8306d5a86771"
      },
      "source": [
        "show_kwargs(pasta='penne', drink='red wine', main_dish='meat dish', n_customers=3)"
      ],
      "execution_count": null,
      "outputs": [
        {
          "output_type": "stream",
          "text": [
            "Keyword arguments: {'pasta': 'penne', 'drink': 'red wine', 'main_dish': 'meat dish', 'n_customers': 3}\n"
          ],
          "name": "stdout"
        },
        {
          "output_type": "execute_result",
          "data": {
            "text/plain": [
              "{'drink': 'red wine',\n",
              " 'main_dish': 'meat dish',\n",
              " 'n_customers': 3,\n",
              " 'pasta': 'penne'}"
            ]
          },
          "metadata": {
            "tags": []
          },
          "execution_count": 27
        }
      ]
    },
    {
      "cell_type": "code",
      "metadata": {
        "id": "QH9RB8_KU3ZH",
        "colab_type": "code",
        "colab": {
          "base_uri": "https://localhost:8080/",
          "height": 51
        },
        "outputId": "b7149c48-b488-4c7b-8294-07b63a75782d"
      },
      "source": [
        "positional_args = (4, 5, 6, 'ya')\n",
        "show_args(*positional_args)"
      ],
      "execution_count": null,
      "outputs": [
        {
          "output_type": "stream",
          "text": [
            "Positional arguments: (4, 5, 6, 'ya')\n"
          ],
          "name": "stdout"
        },
        {
          "output_type": "execute_result",
          "data": {
            "text/plain": [
              "(4, 5, 6, 'ya')"
            ]
          },
          "metadata": {
            "tags": []
          },
          "execution_count": 28
        }
      ]
    },
    {
      "cell_type": "code",
      "metadata": {
        "id": "N9TXr_fKWHws",
        "colab_type": "code",
        "colab": {
          "base_uri": "https://localhost:8080/",
          "height": 51
        },
        "outputId": "af447649-963b-4eb2-9aaf-45295f32cfd1"
      },
      "source": [
        "positional_args = [4, 5, 6, 'ya']\n",
        "show_args(*positional_args)"
      ],
      "execution_count": null,
      "outputs": [
        {
          "output_type": "stream",
          "text": [
            "Positional arguments: (4, 5, 6, 'ya')\n"
          ],
          "name": "stdout"
        },
        {
          "output_type": "execute_result",
          "data": {
            "text/plain": [
              "(4, 5, 6, 'ya')"
            ]
          },
          "metadata": {
            "tags": []
          },
          "execution_count": 29
        }
      ]
    },
    {
      "cell_type": "code",
      "metadata": {
        "id": "AIDjVqNpWUDh",
        "colab_type": "code",
        "colab": {
          "base_uri": "https://localhost:8080/",
          "height": 102
        },
        "outputId": "ed7264ee-5e98-4504-b0c7-b0a929787e75"
      },
      "source": [
        "keyword_args = {'pasta':'penne', 'drink':'red wine', 'main_dish':'meat dish', 'n_customers':3}\n",
        "show_kwargs(**keyword_args)"
      ],
      "execution_count": null,
      "outputs": [
        {
          "output_type": "stream",
          "text": [
            "Keyword arguments: {'pasta': 'penne', 'drink': 'red wine', 'main_dish': 'meat dish', 'n_customers': 3}\n"
          ],
          "name": "stdout"
        },
        {
          "output_type": "execute_result",
          "data": {
            "text/plain": [
              "{'drink': 'red wine',\n",
              " 'main_dish': 'meat dish',\n",
              " 'n_customers': 3,\n",
              " 'pasta': 'penne'}"
            ]
          },
          "metadata": {
            "tags": []
          },
          "execution_count": 30
        }
      ]
    },
    {
      "cell_type": "code",
      "metadata": {
        "id": "VaDS0rXnXO0-",
        "colab_type": "code",
        "colab": {
          "base_uri": "https://localhost:8080/"
        },
        "outputId": "f008580a-0996-4e38-af12-04b06f6b0ba9"
      },
      "source": [
        "animal = 'cat'\n",
        "print(\"animal:\", animal)\n",
        "\n",
        "def my_func():\n",
        "    vegetable = 'carrot'\n",
        "    print(\"animal in my_func:\", animal)\n",
        "    print(\"vegetable in the func:\", vegetable)\n",
        "\n",
        "my_func()"
      ],
      "execution_count": null,
      "outputs": [
        {
          "output_type": "stream",
          "text": [
            "animal: cat\n",
            "animal in my_func: cat\n",
            "vegetable in the func: carrot\n"
          ],
          "name": "stdout"
        }
      ]
    },
    {
      "cell_type": "code",
      "metadata": {
        "id": "Zrda6rVEZkF3",
        "colab_type": "code",
        "colab": {
          "base_uri": "https://localhost:8080/"
        },
        "outputId": "856538b4-b795-4592-adf8-b7cf5f403edb"
      },
      "source": [
        "animal = 'cat'\n",
        "print(\"animal:\", animal)\n",
        "\n",
        "def my_func():\n",
        "    animal = 'dog'\n",
        "    print(\"animal in my_func:\", animal)\n",
        "\n",
        "my_func()\n",
        "print(\"animal global after my_func:\", animal)"
      ],
      "execution_count": null,
      "outputs": [
        {
          "output_type": "stream",
          "text": [
            "animal: cat\n",
            "animal in my_func: dog\n",
            "animal global after my_func: cat\n"
          ],
          "name": "stdout"
        }
      ]
    },
    {
      "cell_type": "code",
      "metadata": {
        "id": "dh39yKvma4Ss",
        "colab_type": "code",
        "colab": {
          "base_uri": "https://localhost:8080/",
          "height": 68
        },
        "outputId": "97134955-8572-419d-e8f0-aa6a1a404aae"
      },
      "source": [
        "animal = 'cat'\n",
        "print(\"animal:\", animal)\n",
        "\n",
        "def my_func_alter():\n",
        "    global animal\n",
        "    animal = 'dog'\n",
        "    print(\"animal in my_func_alter:\", animal)\n",
        "\n",
        "my_func_alter()\n",
        "print(\"animal global after my_func_alter:\", animal)"
      ],
      "execution_count": null,
      "outputs": [
        {
          "output_type": "stream",
          "text": [
            "animal: cat\n",
            "animal in my_func_alter: dog\n",
            "animal global after my_func_alter: dog\n"
          ],
          "name": "stdout"
        }
      ]
    },
    {
      "cell_type": "code",
      "metadata": {
        "id": "ja-H3wahbb3h",
        "colab_type": "code",
        "colab": {
          "base_uri": "https://localhost:8080/",
          "height": 34
        },
        "outputId": "2a0526a9-55e4-4ee8-a8c8-a64495e7e90b"
      },
      "source": [
        "def say_hello():\n",
        "    print('Hello')\n",
        "\n",
        "say_hello()"
      ],
      "execution_count": null,
      "outputs": [
        {
          "output_type": "stream",
          "text": [
            "Hello\n"
          ],
          "name": "stdout"
        }
      ]
    },
    {
      "cell_type": "code",
      "metadata": {
        "id": "Pyyp0w6reCac",
        "colab_type": "code",
        "colab": {
          "base_uri": "https://localhost:8080/",
          "height": 68
        },
        "outputId": "3237c53d-65c6-4657-f413-3ba2d7ee9b80"
      },
      "source": [
        "def run_any_func(func):\n",
        "    for i in range(3):\n",
        "        func()\n",
        "\n",
        "run_any_func(say_hello)"
      ],
      "execution_count": null,
      "outputs": [
        {
          "output_type": "stream",
          "text": [
            "Hello\n",
            "Hello\n",
            "Hello\n"
          ],
          "name": "stdout"
        }
      ]
    },
    {
      "cell_type": "code",
      "metadata": {
        "id": "icV0L5i0eb6F",
        "colab_type": "code",
        "colab": {
          "base_uri": "https://localhost:8080/",
          "height": 68
        },
        "outputId": "ac586482-67e4-4485-9b7e-9471f3e794a0"
      },
      "source": [
        "def multi_func(number):\n",
        "    if number == 0:\n",
        "        print('min', end=\" \")\n",
        "        return min\n",
        "    if number == 1:\n",
        "        print('max', end=\" \")\n",
        "        return max\n",
        "    else:\n",
        "        print('sum', end=\" \")\n",
        "        return sum\n",
        "\n",
        "num_list = [1, 2, 3, 4]\n",
        "for i in [0, 1, 2]:\n",
        "    func = multi_func(i)\n",
        "    print(func(num_list))"
      ],
      "execution_count": null,
      "outputs": [
        {
          "output_type": "stream",
          "text": [
            "min 1\n",
            "max 4\n",
            "sum 10\n"
          ],
          "name": "stdout"
        }
      ]
    },
    {
      "cell_type": "code",
      "metadata": {
        "id": "847Yun8ag6LZ",
        "colab_type": "code",
        "colab": {}
      },
      "source": [
        ""
      ],
      "execution_count": null,
      "outputs": []
    }
  ]
}