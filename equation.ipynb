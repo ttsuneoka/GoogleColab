{
  "nbformat": 4,
  "nbformat_minor": 0,
  "metadata": {
    "colab": {
      "name": "equation.ipynb",
      "provenance": [],
      "authorship_tag": "ABX9TyOojwjt+xz1Ger1EmBOAqao",
      "include_colab_link": true
    },
    "kernelspec": {
      "name": "python3",
      "display_name": "Python 3"
    }
  },
  "cells": [
    {
      "cell_type": "markdown",
      "metadata": {
        "id": "view-in-github",
        "colab_type": "text"
      },
      "source": [
        "<a href=\"https://colab.research.google.com/github/ttsuneoka/GoogleColab/blob/master/equation.ipynb\" target=\"_parent\"><img src=\"https://colab.research.google.com/assets/colab-badge.svg\" alt=\"Open In Colab\"/></a>"
      ]
    },
    {
      "cell_type": "code",
      "metadata": {
        "id": "7viq7vw9YSlU",
        "colab_type": "code",
        "colab": {}
      },
      "source": [
        "from sympy import *"
      ],
      "execution_count": null,
      "outputs": []
    },
    {
      "cell_type": "code",
      "metadata": {
        "id": "q2_IirYTZSd5",
        "colab_type": "code",
        "colab": {}
      },
      "source": [
        "x=symbols('x')"
      ],
      "execution_count": null,
      "outputs": []
    },
    {
      "cell_type": "code",
      "metadata": {
        "id": "p8cXlwdcZgHO",
        "colab_type": "code",
        "colab": {}
      },
      "source": [
        "init_printing()"
      ],
      "execution_count": null,
      "outputs": []
    },
    {
      "cell_type": "code",
      "metadata": {
        "id": "lBbBK2djZisZ",
        "colab_type": "code",
        "colab": {
          "base_uri": "https://localhost:8080/",
          "height": 34
        },
        "outputId": "4fdb2597-6228-42e4-fe18-108c8d79a09f"
      },
      "source": [
        "Integral(sqrt(1/x), x)"
      ],
      "execution_count": null,
      "outputs": [
        {
          "output_type": "execute_result",
          "data": {
            "image/png": "[encoded data removed]",
            "text/latex": "$$\\int \\sqrt{\\frac{1}{x}}\\, dx$$",
            "text/plain": [
              "⌠           \n",
              "⎮     ___   \n",
              "⎮    ╱ 1    \n",
              "⎮   ╱  ─  dx\n",
              "⎮ ╲╱   x    \n",
              "⌡           "
            ]
          },
          "metadata": {
            "tags": []
          },
          "execution_count": 4
        }
      ]
    },
    {
      "cell_type": "markdown",
      "metadata": {
        "id": "ysrZpwy6ajUW",
        "colab_type": "text"
      },
      "source": [
        "$$\\int \\sqrt{\\frac{1}{x}}\\, dx$$"
      ]
    },
    {
      "cell_type": "markdown",
      "metadata": {
        "id": "oPLMRKxNaQBj",
        "colab_type": "text"
      },
      "source": [
        ""
      ]
    },
    {
      "cell_type": "code",
      "metadata": {
        "id": "tlRy0riiZrZU",
        "colab_type": "code",
        "colab": {}
      },
      "source": [
        ""
      ],
      "execution_count": null,
      "outputs": []
    },
    {
      "cell_type": "code",
      "metadata": {
        "id": "V8o2lwqjbBF0",
        "colab_type": "code",
        "colab": {}
      },
      "source": [
        ""
      ],
      "execution_count": null,
      "outputs": []
    }
  ]
}