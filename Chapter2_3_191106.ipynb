{
  "nbformat": 4,
  "nbformat_minor": 0,
  "metadata": {
    "colab": {
      "name": "Chapter2-3_191106.ipynb",
      "provenance": [],
      "include_colab_link": true
    },
    "kernelspec": {
      "name": "python3",
      "display_name": "Python 3"
    }
  },
  "cells": [
    {
      "cell_type": "markdown",
      "metadata": {
        "id": "view-in-github",
        "colab_type": "text"
      },
      "source": [
        "<a href=\"https://colab.research.google.com/github/ttsuneoka/GoogleColab/blob/master/Chapter2_3_191106.ipynb\" target=\"_parent\"><img src=\"https://colab.research.google.com/assets/colab-badge.svg\" alt=\"Open In Colab\"/></a>"
      ]
    },
    {
      "cell_type": "code",
      "metadata": {
        "id": "3uhz8_17sxhq",
        "colab_type": "code",
        "colab": {}
      },
      "source": [
        "import scipy as sp\n",
        "import scipy.linalg as linalg\n",
        "from scipy.optimize import minimize_scalar\n",
        "import numpy as np"
      ],
      "execution_count": null,
      "outputs": []
    },
    {
      "cell_type": "code",
      "metadata": {
        "id": "u5D8Mu7ytrws",
        "colab_type": "code",
        "colab": {
          "base_uri": "https://localhost:8080/",
          "height": 68
        },
        "outputId": "b0592803-1a01-4377-ae12-cf339b772b08"
      },
      "source": [
        "matrix = np.array([[1, -1, -1], [-1, 1, -1], [-1, -1, 1]])\n",
        "print(matrix)"
      ],
      "execution_count": null,
      "outputs": [
        {
          "output_type": "stream",
          "text": [
            "[[ 1 -1 -1]\n",
            " [-1  1 -1]\n",
            " [-1 -1  1]]\n"
          ],
          "name": "stdout"
        }
      ]
    },
    {
      "cell_type": "code",
      "metadata": {
        "id": "v0Ex_CDquToo",
        "colab_type": "code",
        "colab": {
          "base_uri": "https://localhost:8080/",
          "height": 51
        },
        "outputId": "421faaba-5cf9-46e1-ede0-d543caa96b87"
      },
      "source": [
        "#行列式\n",
        "print(\"行列式\")\n",
        "print(linalg.det(matrix))"
      ],
      "execution_count": null,
      "outputs": [
        {
          "output_type": "stream",
          "text": [
            "行列式\n",
            "-4.0\n"
          ],
          "name": "stdout"
        }
      ]
    },
    {
      "cell_type": "code",
      "metadata": {
        "id": "2dFDhHcKzrLt",
        "colab_type": "code",
        "colab": {
          "base_uri": "https://localhost:8080/",
          "height": 85
        },
        "outputId": "51698ecb-ca9d-4816-ccf4-af70dada1d39"
      },
      "source": [
        "#逆行列\n",
        "print(\"逆行列\")\n",
        "print(linalg.inv(matrix))"
      ],
      "execution_count": null,
      "outputs": [
        {
          "output_type": "stream",
          "text": [
            "逆行列\n",
            "[[ 0.  -0.5 -0.5]\n",
            " [-0.5 -0.  -0.5]\n",
            " [-0.5 -0.5  0. ]]\n"
          ],
          "name": "stdout"
        }
      ]
    },
    {
      "cell_type": "code",
      "metadata": {
        "id": "MNWwKo2f0U5_",
        "colab_type": "code",
        "colab": {
          "base_uri": "https://localhost:8080/",
          "height": 68
        },
        "outputId": "f5d0bb99-3cdc-4685-cdc7-c118f8077ca2"
      },
      "source": [
        "print(matrix.dot(linalg.inv(matrix)))"
      ],
      "execution_count": null,
      "outputs": [
        {
          "output_type": "stream",
          "text": [
            "[[1. 0. 0.]\n",
            " [0. 1. 0.]\n",
            " [0. 0. 1.]]\n"
          ],
          "name": "stdout"
        }
      ]
    },
    {
      "cell_type": "code",
      "metadata": {
        "id": "vw5poqVYEdca",
        "colab_type": "code",
        "colab": {}
      },
      "source": [
        "eig_value, eig_vector = linalg.eig(matrix)"
      ],
      "execution_count": null,
      "outputs": []
    },
    {
      "cell_type": "code",
      "metadata": {
        "id": "2SgmmZrgFA7B",
        "colab_type": "code",
        "colab": {
          "base_uri": "https://localhost:8080/",
          "height": 119
        },
        "outputId": "ac2a30fa-7bd9-4665-88c3-69837798447f"
      },
      "source": [
        "print(\"固有値\")\n",
        "print(eig_value)\n",
        "print(\"固有ベクトル\")\n",
        "print(eig_vector)"
      ],
      "execution_count": null,
      "outputs": [
        {
          "output_type": "stream",
          "text": [
            "固有値\n",
            "[-1.+0.j  2.+0.j  2.+0.j]\n",
            "固有ベクトル\n",
            "[[ 0.57735027  0.81649658  0.40824829]\n",
            " [ 0.57735027 -0.40824829 -0.81649658]\n",
            " [ 0.57735027 -0.40824829  0.40824829]]\n"
          ],
          "name": "stdout"
        }
      ]
    },
    {
      "cell_type": "code",
      "metadata": {
        "id": "hvaOH2DI51Ci",
        "colab_type": "code",
        "colab": {
          "base_uri": "https://localhost:8080/",
          "height": 34
        },
        "outputId": "08f02183-618b-4e21-df22-aee0363ce0e7"
      },
      "source": [
        "linalg.eigvals(matrix)"
      ],
      "execution_count": null,
      "outputs": [
        {
          "output_type": "execute_result",
          "data": {
            "text/plain": [
              "array([-1.+0.j,  2.+0.j,  2.+0.j])"
            ]
          },
          "metadata": {
            "tags": []
          },
          "execution_count": 8
        }
      ]
    },
    {
      "cell_type": "code",
      "metadata": {
        "colab_type": "code",
        "id": "gJmlUNGJ6dWe",
        "colab": {
          "base_uri": "https://localhost:8080/",
          "height": 85
        },
        "outputId": "cccdd114-abc6-4187-f695-e444cab9c561"
      },
      "source": [
        "eig_value1, eig_vector1 = linalg.eigh(matrix)\n",
        "print(eig_value1)\n",
        "print(eig_vector1)"
      ],
      "execution_count": null,
      "outputs": [
        {
          "output_type": "stream",
          "text": [
            "[-1.  2.  2.]\n",
            "[[-0.57735027  0.          0.81649658]\n",
            " [-0.57735027 -0.70710678 -0.40824829]\n",
            " [-0.57735027  0.70710678 -0.40824829]]\n"
          ],
          "name": "stdout"
        }
      ]
    },
    {
      "cell_type": "code",
      "metadata": {
        "id": "EiXPtn5HHebR",
        "colab_type": "code",
        "colab": {
          "base_uri": "https://localhost:8080/",
          "height": 68
        },
        "outputId": "78fef47b-02f3-4ee0-adcf-1ed2008279fc"
      },
      "source": [
        "matrix1 = np.array([[1,1,0],[1,2,1],[2,5,3]])\n",
        "print(matrix1)"
      ],
      "execution_count": null,
      "outputs": [
        {
          "output_type": "stream",
          "text": [
            "[[1 1 0]\n",
            " [1 2 1]\n",
            " [2 5 3]]\n"
          ],
          "name": "stdout"
        }
      ]
    },
    {
      "cell_type": "code",
      "metadata": {
        "id": "uWcreYFpH_Yu",
        "colab_type": "code",
        "colab": {
          "base_uri": "https://localhost:8080/",
          "height": 119
        },
        "outputId": "ac76f056-024d-4dd5-e99b-6bdb8908e78c"
      },
      "source": [
        "eig_value, eig_vector = linalg.eig(matrix1)\n",
        "print(\"固有値\")\n",
        "print(eig_value)\n",
        "print(\"固有ベクトル\")\n",
        "print(eig_vector)"
      ],
      "execution_count": null,
      "outputs": [
        {
          "output_type": "stream",
          "text": [
            "固有値\n",
            "[ 5.00000000e+00+0.j  1.00000000e+00+0.j -4.34391006e-16+0.j]\n",
            "固有ベクトル\n",
            "[[ 8.51256531e-02  7.07106781e-01  5.77350269e-01]\n",
            " [ 3.40502612e-01  3.54627176e-16 -5.77350269e-01]\n",
            " [ 9.36382184e-01 -7.07106781e-01  5.77350269e-01]]\n"
          ],
          "name": "stdout"
        }
      ]
    },
    {
      "cell_type": "code",
      "metadata": {
        "id": "BLAM9gh_Il6w",
        "colab_type": "code",
        "colab": {
          "base_uri": "https://localhost:8080/",
          "height": 85
        },
        "outputId": "a6a8e4bd-2396-432f-e9a2-5d3d31a8b18a"
      },
      "source": [
        "eig_value1, eig_vector1 = linalg.eigh(matrix1)\n",
        "print(eig_value1)\n",
        "print(eig_vector1)"
      ],
      "execution_count": null,
      "outputs": [
        {
          "output_type": "stream",
          "text": [
            "[-2.63829155  0.46367063  8.17462092]\n",
            "[[-0.18532935  0.9392985  -0.28874098]\n",
            " [-0.70167054 -0.33220368 -0.63031673]\n",
            " [ 0.68797637 -0.08578485 -0.72064518]]\n"
          ],
          "name": "stdout"
        }
      ]
    },
    {
      "cell_type": "code",
      "metadata": {
        "id": "iN6i2Drf7HLN",
        "colab_type": "code",
        "colab": {
          "base_uri": "https://localhost:8080/",
          "height": 34
        },
        "outputId": "b0c0f1b2-ada5-4482-b84f-69246cb3485f"
      },
      "source": [
        "# Newton Method\n",
        "from scipy.optimize import newton\n",
        "\n",
        "def my_function(x):\n",
        "    return (x**2-4*x+4)\n",
        "\n",
        "print(newton(my_function,0))"
      ],
      "execution_count": null,
      "outputs": [
        {
          "output_type": "stream",
          "text": [
            "1.9999999804639512\n"
          ],
          "name": "stdout"
        }
      ]
    },
    {
      "cell_type": "code",
      "metadata": {
        "id": "UJU2yOov8MzT",
        "colab_type": "code",
        "colab": {
          "base_uri": "https://localhost:8080/",
          "height": 102
        },
        "outputId": "7bba40d1-25d8-4125-95ba-a7077481296f"
      },
      "source": [
        "# Brent Method\n",
        "print(minimize_scalar(my_function, method='Brent'))"
      ],
      "execution_count": null,
      "outputs": [
        {
          "output_type": "stream",
          "text": [
            "     fun: 0.0\n",
            "    nfev: 9\n",
            "     nit: 4\n",
            " success: True\n",
            "       x: 2.0\n"
          ],
          "name": "stdout"
        }
      ]
    },
    {
      "cell_type": "code",
      "metadata": {
        "id": "c5QjsVXxW5NY",
        "colab_type": "code",
        "colab": {
          "base_uri": "https://localhost:8080/",
          "height": 68
        },
        "outputId": "0caac826-91f7-41fd-a057-70857fc9e749"
      },
      "source": [
        "mat_A = np.array([[1,2,3],[1,3,2],[3,1,2]])\n",
        "print(mat_A)"
      ],
      "execution_count": null,
      "outputs": [
        {
          "output_type": "stream",
          "text": [
            "[[1 2 3]\n",
            " [1 3 2]\n",
            " [3 1 2]]\n"
          ],
          "name": "stdout"
        }
      ]
    },
    {
      "cell_type": "code",
      "metadata": {
        "id": "1wArub8QXOoa",
        "colab_type": "code",
        "colab": {
          "base_uri": "https://localhost:8080/",
          "height": 34
        },
        "outputId": "4bded2fa-8d10-450d-b87a-247fc2471ae6"
      },
      "source": [
        "det_mat_A = linalg.det(mat_A)\n",
        "print(det_mat_A)"
      ],
      "execution_count": null,
      "outputs": [
        {
          "output_type": "stream",
          "text": [
            "-12.0\n"
          ],
          "name": "stdout"
        }
      ]
    },
    {
      "cell_type": "code",
      "metadata": {
        "id": "kTdlhk-9XeVQ",
        "colab_type": "code",
        "colab": {
          "base_uri": "https://localhost:8080/",
          "height": 68
        },
        "outputId": "a15937a9-ca36-4367-d327-7d8de072b9b4"
      },
      "source": [
        "inv_mat_A = linalg.inv(mat_A)\n",
        "print(inv_mat_A)"
      ],
      "execution_count": null,
      "outputs": [
        {
          "output_type": "stream",
          "text": [
            "[[-0.33333333  0.08333333  0.41666667]\n",
            " [-0.33333333  0.58333333 -0.08333333]\n",
            " [ 0.66666667 -0.41666667 -0.08333333]]\n"
          ],
          "name": "stdout"
        }
      ]
    },
    {
      "cell_type": "code",
      "metadata": {
        "id": "tSLkESitXq4p",
        "colab_type": "code",
        "colab": {
          "base_uri": "https://localhost:8080/",
          "height": 85
        },
        "outputId": "50819d6d-c82f-4c17-e0c8-a5dab2875889"
      },
      "source": [
        "eig_value_mat_A, eig_vector_mat_A = linalg.eig(mat_A)\n",
        "print(eig_value_mat_A)\n",
        "print(eig_vector_mat_A)"
      ],
      "execution_count": null,
      "outputs": [
        {
          "output_type": "stream",
          "text": [
            "[ 6.        +0.j -1.41421356+0.j  1.41421356+0.j]\n",
            "[[-0.57735027 -0.72236645  0.16041816]\n",
            " [-0.57735027 -0.14290228 -0.81090869]\n",
            " [-0.57735027  0.67658381  0.56275492]]\n"
          ],
          "name": "stdout"
        }
      ]
    },
    {
      "cell_type": "code",
      "metadata": {
        "id": "j_SQE3RrYW8M",
        "colab_type": "code",
        "colab": {
          "base_uri": "https://localhost:8080/",
          "height": 51
        },
        "outputId": "42660322-16b1-48e9-9dc1-aa0c720c74e5"
      },
      "source": [
        "# Newton Method\n",
        "from scipy.optimize import newton\n",
        "\n",
        "def my_function(x):\n",
        "    return (x**3+2*x+1)\n",
        "\n",
        "print(newton(my_function,0))\n",
        "print(my_function(newton(my_function,0)))"
      ],
      "execution_count": null,
      "outputs": [
        {
          "output_type": "stream",
          "text": [
            "-0.45339765151640365\n",
            "3.3306690738754696e-16\n"
          ],
          "name": "stdout"
        }
      ]
    }
  ]
}